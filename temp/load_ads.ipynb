{
 "cells": [
  {
   "cell_type": "code",
   "execution_count": 125,
   "metadata": {},
   "outputs": [],
   "source": [
    "# Data handling and processing\n",
    "import os\n",
    "import re\n",
    "import time\n",
    "import pandas as pd\n",
    "import numpy as np\n",
    "import statistics\n",
    "import json\n",
    "import csv\n",
    "import sys\n",
    "from datetime import datetime\n",
    "from typing import List, Tuple, NamedTuple, Set, Dict, Any, Union, Optional\n",
    "from pathlib import Path\n",
    "\n",
    "# Scraping\n",
    "import requests\n",
    "\n",
    "# Plotting\n",
    "import matplotlib as plt"
   ]
  },
  {
   "cell_type": "code",
   "execution_count": 133,
   "metadata": {},
   "outputs": [],
   "source": [
    "# constants and Facebook API\n",
    "ACCESS_TOKEN = \"EAAMtZAjRm38kBO4lzhHI8KybWbZCUNSTvEuOporZBFJ591UVXF1yhbkwa9ZBYYq8N0zKVM2iJ5ZCXKfgCsgEgR17ZBHRIuAo6SjaOME1JyGxGJgpwqO2XfrthunrkbJIYbUyMgZAZCKcZCBuQ8zJu4iG2YoIjqr3uohwtqK5nZAYcDAsJhpBcuX8fmFsxW8iu1eWRWrk6XQ0d5xFDWRnzyvznrsZAJ1n1QQIOxaWQBZAek3k2P4ZD\"\n",
    "BASE_URL = \"https://graph.facebook.com/v21.0/ads_archive/\"\n",
    "pd.set_option(\"display.max_columns\", None)\n"
   ]
  },
  {
   "cell_type": "code",
   "execution_count": 141,
   "metadata": {},
   "outputs": [],
   "source": [
    "def get_ads(id, access_token):\n",
    "    all_data = []\n",
    "    params = {\n",
    "        'access_token': access_token,\n",
    "        'ad_type': 'POLITICAL_AND_ISSUE_ADS',\n",
    "        'search_page_ids': int(id),\n",
    "        'fields': 'id,page_name,ad_creative_bodies,ad_delivery_start_time,ad_delivery_stop_time,impressions,spend,demographic_distribution,languages,publisher_platforms,bylines',\n",
    "        'ad_reached_countries': 'US',\n",
    "        'unmask_removed_content': 'true',\n",
    "        'limit': 100\n",
    "    }\n",
    "    \n",
    "    try:\n",
    "        while True:\n",
    "            response = requests.get('https://graph.facebook.com/v21.0/ads_archive/', params=params)\n",
    "            data = response.json()\n",
    "            \n",
    "            if 'error' in data:\n",
    "                print(f\"API Error: {data['error']}\")\n",
    "            \n",
    "            if 'data' in data:\n",
    "                all_data.extend(data['data'])\n",
    "            \n",
    "            if 'paging' in data and 'next' in data['paging'] and 'after' in data['paging']['cursors']:\n",
    "                params['after'] = data['paging']['cursors']['after']\n",
    "            else:\n",
    "                break\n",
    "\n",
    "    except Exception as e:\n",
    "        print(f\"Error fetching ads for page {id}: {str(e)}\")\n",
    "        return None\n",
    "        \n",
    "    return {'data': all_data}"
   ]
  },
  {
   "cell_type": "code",
   "execution_count": 138,
   "metadata": {},
   "outputs": [],
   "source": [
    "def process_candidate(name, page_id):\n",
    "    print(f\"Processing ads for {name} (Page ID: {page_id})\")\n",
    "    ads_data = []\n",
    "    data = get_ads(page_id, ACCESS_TOKEN)\n",
    "    if not data or 'data' not in data:\n",
    "        print(\"Ads not found\")\n",
    "        return\n",
    "\n",
    "    for ad in data['data']:\n",
    "        imp_data = ad.get('impressions', {'lower_bound': '0', 'upper_bound': '0'})\n",
    "        spend_data = ad.get('spend', {'lower_bound': '0', 'upper_bound': '0'})\n",
    "        impressions = (int(imp_data.get('lower_bound', 0)) + int(imp_data.get('upper_bound', 0)) + 1) / 2\n",
    "        cost = (int(spend_data.get('lower_bound', 0)) + int(spend_data.get('upper_bound', 0)) + 1) / 2\n",
    "\n",
    "        entry = {\n",
    "            'name': name,\n",
    "            'page_id': page_id,\n",
    "            'ad_id': ad.get('id', ''),\n",
    "            'start_date': datetime.strptime(ad.get('ad_delivery_start_time', '2000-01-01'), '%Y-%m-%d').strftime(\"%Y-%m-%d\") if ad.get('ad_delivery_start_time') else None,\n",
    "            'end_date': datetime.strptime(ad.get('ad_delivery_stop_time', '2000-01-01'), '%Y-%m-%d').strftime(\"%Y-%m-%d\") if ad.get('ad_delivery_stop_time') else None,\n",
    "            'impressions': int(impressions),\n",
    "            'cost': int(cost),\n",
    "            'language': ad.get('languages', [''])[0],\n",
    "            'is_facebook': 1 if 'facebook' in ad.get('publisher_platforms', []) else 0,\n",
    "            'is_instagram': 1 if 'instagram' in ad.get('publisher_platforms', []) else 0,\n",
    "            'byline': ad.get('bylines', '').lower(),\n",
    "            'creative': ad.get('ad_creative_bodies', [''])[0] if ad.get('ad_creative_bodies') else ''\n",
    "        }\n",
    "\n",
    "        for gender in ['male', 'female', 'unknown']:\n",
    "            for age_group in ['18-24', '25-34', '35-44', '45-54', '55-64', '65+']:\n",
    "                entry[f'share_{gender}_{age_group}'] = None\n",
    "\n",
    "        for demo in ad.get('demographic_distribution', []):\n",
    "            gender = demo.get('gender', '').lower()\n",
    "            age = demo.get('age', '')\n",
    "            if gender and age:\n",
    "                entry[f'share_{gender}_{age}'] = float(demo.get('percentage', 0))\n",
    "        ads_data.append(entry)\n",
    "    return ads_data"
   ]
  },
  {
   "cell_type": "code",
   "execution_count": 129,
   "metadata": {},
   "outputs": [
    {
     "name": "stdout",
     "output_type": "stream",
     "text": [
      "Processing ads for kay ivey (Page ID: 105251911754539)\n",
      "Processing ads for ken krawchuk (Page ID: 663297590359183)\n"
     ]
    }
   ],
   "source": [
    "df = pd.read_excel('data_raw/facebook_profiles.xlsx')\n",
    "ads_data = []\n",
    "\n",
    "# Process all candidates\n",
    "for _, row in df.loc[218:219].iterrows():\n",
    "    name = row['name_first_last']\n",
    "    \n",
    "    # Process page_ids if they exist\n",
    "    if pd.notna(row['page_id']):\n",
    "        page_ids = [row['page_id']]\n",
    "        if pd.notna(row.get('page_id_2')):\n",
    "            page_ids.append(row['page_id_2'])\n",
    "        \n",
    "        for page_id in page_ids:\n",
    "            ads_data.extend(process_candidate(name, page_id))\n",
    "\n",
    "# Convert to dataframe\n",
    "df_ads = pd.DataFrame(ads_data)\n",
    "df_ads = df_ads.replace({None: np.NaN})\n",
    "df_ads.to_csv(\"data_clean/facebook_ads.csv\", index=False)"
   ]
  },
  {
   "cell_type": "code",
   "execution_count": 142,
   "metadata": {},
   "outputs": [
    {
     "name": "stdout",
     "output_type": "stream",
     "text": [
      "API Error: {'message': '(#613) Calls to this api have exceeded the rate limit.', 'type': 'OAuthException', 'code': 613, 'fbtrace_id': 'AfZmF2udCG60t0TOC9RbH9W'}\n"
     ]
    },
    {
     "data": {
      "text/plain": [
       "{'data': []}"
      ]
     },
     "execution_count": 142,
     "metadata": {},
     "output_type": "execute_result"
    }
   ],
   "source": [
    "id = '105251911754539'\n",
    "get_ads(id, ACCESS_TOKEN)"
   ]
  }
 ],
 "metadata": {
  "kernelspec": {
   "display_name": "Python 3",
   "language": "python",
   "name": "python3"
  },
  "language_info": {
   "codemirror_mode": {
    "name": "ipython",
    "version": 3
   },
   "file_extension": ".py",
   "mimetype": "text/x-python",
   "name": "python",
   "nbconvert_exporter": "python",
   "pygments_lexer": "ipython3",
   "version": "3.11.11"
  }
 },
 "nbformat": 4,
 "nbformat_minor": 2
}
